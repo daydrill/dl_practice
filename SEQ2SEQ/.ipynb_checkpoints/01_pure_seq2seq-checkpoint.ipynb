{
 "cells": [
  {
   "cell_type": "code",
   "execution_count": null,
   "metadata": {
    "collapsed": true
   },
   "outputs": [],
   "source": []
  },
  {
   "cell_type": "code",
   "execution_count": null,
   "metadata": {
    "collapsed": true
   },
   "outputs": [],
   "source": []
  },
  {
   "cell_type": "markdown",
   "metadata": {},
   "source": [
    "- https://github.com/j-min/tf_tutorial_plus/blob/master/RNN_seq2seq/legacy_seq2seq/01_pure_seq2seq.ipynb"
   ]
  },
  {
   "cell_type": "markdown",
   "metadata": {},
   "source": [
    "## Import Modules"
   ]
  },
  {
   "cell_type": "code",
   "execution_count": 47,
   "metadata": {
    "collapsed": true
   },
   "outputs": [],
   "source": [
    "# To plot learning curve graph\n",
    "%matplotlib inline\n",
    "import matplotlib.pyplot as plt\n",
    "\n",
    "# for pretty print\n",
    "from pprint import pprint\n",
    "\n",
    "# for tokenizer\n",
    "import re\n",
    "\n",
    "# for word counter in vocabulary dictionary\n",
    "from collections import Counter\n",
    "\n",
    "# TensorFlow of Course :)\n",
    "import tensorflow as tf\n",
    "\n",
    "# The paths of RNNCell or rnn functions are too long.\n",
    "from tensorflow.contrib.legacy_seq2seq.python.ops import *\n",
    "from tensorflow.contrib.rnn.python.ops.core_rnn_cell_impl import *"
   ]
  },
  {
   "cell_type": "code",
   "execution_count": null,
   "metadata": {
    "collapsed": true
   },
   "outputs": [],
   "source": []
  },
  {
   "cell_type": "markdown",
   "metadata": {},
   "source": [
    "## Sample training data"
   ]
  },
  {
   "cell_type": "code",
   "execution_count": 48,
   "metadata": {
    "collapsed": true
   },
   "outputs": [],
   "source": [
    "enc_sentence_length = 10\n",
    "dec_sentence_length = 10\n",
    "batch_size = 4"
   ]
  },
  {
   "cell_type": "code",
   "execution_count": 49,
   "metadata": {
    "collapsed": true
   },
   "outputs": [],
   "source": [
    "input_batches = [\n",
    "    ['Hi What is your name?', 'Nice to meet you!'],\n",
    "    ['Which programming language do you use?', 'See you later.'],\n",
    "    ['Where do you live?', 'What is your major?'],\n",
    "    ['What do you want to drink?', 'What is your favorite beer?']]\n",
    "\n",
    "target_batches = [\n",
    "    ['Hi this is Jaemin.', 'Nice to meet you too!'],\n",
    "    ['I like Python.', 'Bye Bye.'],\n",
    "    ['I live in Seoul, South Korea.', 'I study industrial engineering.'],\n",
    "    ['Beer please!', 'Leffe brown!']]"
   ]
  },
  {
   "cell_type": "code",
   "execution_count": 50,
   "metadata": {
    "collapsed": false
   },
   "outputs": [
    {
     "data": {
      "text/plain": [
       "['Hi What is your name?',\n",
       " 'Nice to meet you!',\n",
       " 'Which programming language do you use?',\n",
       " 'See you later.',\n",
       " 'Where do you live?',\n",
       " 'What is your major?',\n",
       " 'What do you want to drink?',\n",
       " 'What is your favorite beer?']"
      ]
     },
     "execution_count": 50,
     "metadata": {},
     "output_type": "execute_result"
    }
   ],
   "source": [
    "all_input_sentences = []\n",
    "for input_batch in input_batches:\n",
    "    all_input_sentences.extend(input_batch)\n",
    "all_input_sentences"
   ]
  },
  {
   "cell_type": "code",
   "execution_count": 51,
   "metadata": {
    "collapsed": false
   },
   "outputs": [
    {
     "data": {
      "text/plain": [
       "['Hi this is Jaemin.',\n",
       " 'Nice to meet you too!',\n",
       " 'I like Python.',\n",
       " 'Bye Bye.',\n",
       " 'I live in Seoul, South Korea.',\n",
       " 'I study industrial engineering.',\n",
       " 'Beer please!',\n",
       " 'Leffe brown!']"
      ]
     },
     "execution_count": 51,
     "metadata": {},
     "output_type": "execute_result"
    }
   ],
   "source": [
    "all_target_sentences = []\n",
    "for target_batch in target_batches:\n",
    "    all_target_sentences.extend(target_batch)\n",
    "all_target_sentences"
   ]
  },
  {
   "cell_type": "code",
   "execution_count": null,
   "metadata": {
    "collapsed": true
   },
   "outputs": [],
   "source": []
  },
  {
   "cell_type": "markdown",
   "metadata": {},
   "source": [
    "## NLP helper functions"
   ]
  },
  {
   "cell_type": "code",
   "execution_count": 52,
   "metadata": {
    "collapsed": false
   },
   "outputs": [
    {
     "data": {
      "text/plain": [
       "['Hello', 'world', '?', '?', '\"', 'sdfs', '%', '@', '#', '%']"
      ]
     },
     "execution_count": 52,
     "metadata": {},
     "output_type": "execute_result"
    }
   ],
   "source": [
    "def tokenizer(sentence):\n",
    "    tokens = re.findall(r\"[\\w]+|[^\\s\\w]\", sentence)\n",
    "    return tokens\n",
    "\n",
    "# Example\n",
    "tokenizer('Hello world?? \"sdfs%@#%')"
   ]
  },
  {
   "cell_type": "code",
   "execution_count": 53,
   "metadata": {
    "collapsed": true
   },
   "outputs": [],
   "source": [
    "def build_vocab(sentences, is_target=False, max_vocab_size=None):\n",
    "    word_counter = Counter()\n",
    "    word2id = dict()\n",
    "    id2word = dict()\n",
    "    \n",
    "    for sentence in sentences:\n",
    "        tokens = tokenizer(sentence)\n",
    "        word_counter.update(tokens)\n",
    "        \n",
    "    if max_vocab_size is None:\n",
    "        max_vocab_size = len(word_counter)\n",
    "    \n",
    "    if is_target:\n",
    "        word2id['_GO'] = 0\n",
    "        word2id['_PAD'] = 1\n",
    "        vocab_idx = 2\n",
    "        for key, value in word_counter.most_common(max_vocab_size):\n",
    "            word2id[key] = vocab_idx\n",
    "            vocab_idx += 1\n",
    "    else:\n",
    "        word2id['_PAD'] = 0\n",
    "        vocab_idx = 1\n",
    "        for key, value in word_counter.most_common(max_vocab_size):\n",
    "            word2id[key] = vocab_idx\n",
    "            vocab_idx += 1\n",
    "            \n",
    "    for key, value in word2id.items():\n",
    "        id2word[value] = key\n",
    "            \n",
    "    return word2id, id2word, max_vocab_size"
   ]
  },
  {
   "cell_type": "code",
   "execution_count": 54,
   "metadata": {
    "collapsed": false,
    "scrolled": false
   },
   "outputs": [
    {
     "name": "stdout",
     "output_type": "stream",
     "text": [
      "({'!': 12,\n",
      "  '.': 19,\n",
      "  '?': 1,\n",
      "  'Hi': 8,\n",
      "  'Nice': 10,\n",
      "  'See': 17,\n",
      "  'What': 3,\n",
      "  'Where': 20,\n",
      "  'Which': 13,\n",
      "  '_PAD': 0,\n",
      "  'beer': 26,\n",
      "  'do': 6,\n",
      "  'drink': 24,\n",
      "  'favorite': 25,\n",
      "  'is': 4,\n",
      "  'language': 15,\n",
      "  'later': 18,\n",
      "  'live': 21,\n",
      "  'major': 22,\n",
      "  'meet': 11,\n",
      "  'name': 9,\n",
      "  'programming': 14,\n",
      "  'to': 7,\n",
      "  'use': 16,\n",
      "  'want': 23,\n",
      "  'you': 2,\n",
      "  'your': 5},\n",
      " {0: '_PAD',\n",
      "  1: '?',\n",
      "  2: 'you',\n",
      "  3: 'What',\n",
      "  4: 'is',\n",
      "  5: 'your',\n",
      "  6: 'do',\n",
      "  7: 'to',\n",
      "  8: 'Hi',\n",
      "  9: 'name',\n",
      "  10: 'Nice',\n",
      "  11: 'meet',\n",
      "  12: '!',\n",
      "  13: 'Which',\n",
      "  14: 'programming',\n",
      "  15: 'language',\n",
      "  16: 'use',\n",
      "  17: 'See',\n",
      "  18: 'later',\n",
      "  19: '.',\n",
      "  20: 'Where',\n",
      "  21: 'live',\n",
      "  22: 'major',\n",
      "  23: 'want',\n",
      "  24: 'drink',\n",
      "  25: 'favorite',\n",
      "  26: 'beer'},\n",
      " 26)\n",
      "\n",
      "\n",
      "({'!': 3,\n",
      "  ',': 20,\n",
      "  '.': 2,\n",
      "  'Beer': 26,\n",
      "  'Bye': 5,\n",
      "  'Hi': 6,\n",
      "  'I': 4,\n",
      "  'Jaemin': 9,\n",
      "  'Korea': 22,\n",
      "  'Leffe': 28,\n",
      "  'Nice': 10,\n",
      "  'Python': 16,\n",
      "  'Seoul': 19,\n",
      "  'South': 21,\n",
      "  '_GO': 0,\n",
      "  '_PAD': 1,\n",
      "  'brown': 29,\n",
      "  'engineering': 25,\n",
      "  'in': 18,\n",
      "  'industrial': 24,\n",
      "  'is': 8,\n",
      "  'like': 15,\n",
      "  'live': 17,\n",
      "  'meet': 12,\n",
      "  'please': 27,\n",
      "  'study': 23,\n",
      "  'this': 7,\n",
      "  'to': 11,\n",
      "  'too': 14,\n",
      "  'you': 13},\n",
      " {0: '_GO',\n",
      "  1: '_PAD',\n",
      "  2: '.',\n",
      "  3: '!',\n",
      "  4: 'I',\n",
      "  5: 'Bye',\n",
      "  6: 'Hi',\n",
      "  7: 'this',\n",
      "  8: 'is',\n",
      "  9: 'Jaemin',\n",
      "  10: 'Nice',\n",
      "  11: 'to',\n",
      "  12: 'meet',\n",
      "  13: 'you',\n",
      "  14: 'too',\n",
      "  15: 'like',\n",
      "  16: 'Python',\n",
      "  17: 'live',\n",
      "  18: 'in',\n",
      "  19: 'Seoul',\n",
      "  20: ',',\n",
      "  21: 'South',\n",
      "  22: 'Korea',\n",
      "  23: 'study',\n",
      "  24: 'industrial',\n",
      "  25: 'engineering',\n",
      "  26: 'Beer',\n",
      "  27: 'please',\n",
      "  28: 'Leffe',\n",
      "  29: 'brown'},\n",
      " 28)\n"
     ]
    }
   ],
   "source": [
    "# Example\n",
    "pprint(build_vocab(all_input_sentences))\n",
    "print('\\n')\n",
    "pprint(build_vocab(all_target_sentences, is_target=True))"
   ]
  },
  {
   "cell_type": "code",
   "execution_count": null,
   "metadata": {
    "collapsed": true
   },
   "outputs": [],
   "source": []
  },
  {
   "cell_type": "code",
   "execution_count": 55,
   "metadata": {
    "collapsed": true
   },
   "outputs": [],
   "source": [
    "enc_word2id, enc_id2word, enc_vocab_size = build_vocab(all_input_sentences)\n",
    "dec_word2id, dec_id2word, dec_vocab_size = build_vocab(all_target_sentences, is_target=True)"
   ]
  },
  {
   "cell_type": "code",
   "execution_count": 56,
   "metadata": {
    "collapsed": false
   },
   "outputs": [
    {
     "name": "stdout",
     "output_type": "stream",
     "text": [
      "Nice 10\n",
      "to 7\n",
      "meet 11\n",
      "you 2\n",
      "! 12\n"
     ]
    }
   ],
   "source": [
    "for token in tokenizer('Nice to meet you!'):\n",
    "    print(token, enc_word2id[token])"
   ]
  },
  {
   "cell_type": "code",
   "execution_count": 57,
   "metadata": {
    "collapsed": true
   },
   "outputs": [],
   "source": [
    "def sent2ids(sent, vocab, max_sentence_length, is_target=False):\n",
    "    tokens = tokenizer(sent)\n",
    "    current_length = len(tokens)\n",
    "    pad_length = max_sentence_length - current_length\n",
    "    if is_target:\n",
    "        return [0] + [token2idx(token, vocab) for token in tokens] + [1] * pad_length\n",
    "    else:\n",
    "        return [token2idx(token, vocab) for token in tokens] + [0] * pad_length, current_length"
   ]
  },
  {
   "cell_type": "code",
   "execution_count": 58,
   "metadata": {
    "collapsed": false
   },
   "outputs": [
    {
     "name": "stdout",
     "output_type": "stream",
     "text": [
      "Hi What is your name?\n",
      "([8, 3, 4, 5, 9, 1, 0, 0, 0, 0], 6)\n",
      "Hi this is Jaemin.\n",
      "[0, 6, 7, 8, 9, 2, 1, 1, 1, 1, 1]\n"
     ]
    }
   ],
   "source": [
    "# Enc Example\n",
    "print('Hi What is your name?')\n",
    "print(sent2ids('Hi What is your name?', vocab=enc_word2id, max_sentence_length=enc_sentence_length, is_target=False))\n",
    "\n",
    "# Dec Example\n",
    "print('Hi this is Jaemin.')\n",
    "print(sent2ids('Hi this is Jaemin.', vocab=dec_word2id, max_sentence_length=dec_sentence_length, is_target=True))"
   ]
  },
  {
   "cell_type": "code",
   "execution_count": 59,
   "metadata": {
    "collapsed": true
   },
   "outputs": [],
   "source": [
    "def ids2sent(ids, reverse_vocab):\n",
    "    return \" \".join([reverse_vocab[i] for i in ids])"
   ]
  },
  {
   "cell_type": "code",
   "execution_count": 60,
   "metadata": {
    "collapsed": false
   },
   "outputs": [
    {
     "data": {
      "text/plain": [
       "'_GO Hi this is Jaemin . _PAD _PAD _PAD _PAD _PAD'"
      ]
     },
     "execution_count": 60,
     "metadata": {},
     "output_type": "execute_result"
    }
   ],
   "source": [
    "ids2sent([0, 6, 7, 8, 9, 2, 1, 1, 1, 1, 1], reverse_vocab=dec_id2word)"
   ]
  },
  {
   "cell_type": "code",
   "execution_count": null,
   "metadata": {
    "collapsed": true
   },
   "outputs": [],
   "source": []
  },
  {
   "cell_type": "markdown",
   "metadata": {},
   "source": [
    "## Hyperparameters"
   ]
  },
  {
   "cell_type": "code",
   "execution_count": 61,
   "metadata": {
    "collapsed": true
   },
   "outputs": [],
   "source": [
    "n_epoch = 2000\n",
    "n_enc_layer = 3\n",
    "n_dec_layer = 3\n",
    "hidden_size = 30\n",
    "\n",
    "enc_emb_size = 30\n",
    "dec_emb_size = 30"
   ]
  },
  {
   "cell_type": "code",
   "execution_count": null,
   "metadata": {
    "collapsed": true
   },
   "outputs": [],
   "source": []
  },
  {
   "cell_type": "markdown",
   "metadata": {},
   "source": [
    "## Build Graph"
   ]
  },
  {
   "cell_type": "code",
   "execution_count": 62,
   "metadata": {
    "collapsed": true
   },
   "outputs": [],
   "source": [
    "tf.reset_default_graph()\n",
    "\n",
    "enc_inputs = tf.placeholder(\n",
    "    tf.int32,\n",
    "    shape=[None, enc_sentence_length],\n",
    "    name='input_sentences')\n",
    "\n",
    "sequence_lengths = tf.placeholder(\n",
    "    tf.int32,\n",
    "    shape=[None],\n",
    "    name='sentences_length')\n",
    "\n",
    "dec_inputs = tf.placeholder(\n",
    "    tf.int32,\n",
    "    shape=[None, dec_sentence_length+1],\n",
    "    name='output_sentences')\n",
    "\n",
    "# batch major => time major\n",
    "enc_inputs_t = tf.transpose(enc_inputs, perm=[1,0])\n",
    "dec_inputs_t = tf.transpose(dec_inputs, perm=[1,0])\n",
    "\n",
    "with tf.device('/cpu:0'):\n",
    "    enc_Wemb = tf.get_variable('enc_word_emb',\n",
    "        initializer=tf.random_uniform([enc_vocab_size+1, enc_emb_size]))\n",
    "    dec_Wemb = tf.get_variable('dec_word_emb',\n",
    "        initializer=tf.random_uniform([dec_vocab_size+2, dec_emb_size]))\n",
    "    dec_out_W = tf.get_variable('dec_out_W',\n",
    "        initializer=tf.random_uniform([hidden_size, dec_vocab_size+2]))\n",
    "    dec_out_b = tf.get_variable('dec_out_b',\n",
    "        initializer=tf.random_uniform([dec_vocab_size+2]))\n",
    "    \n",
    "with tf.variable_scope('encoder'):\n",
    "    enc_emb_inputs = tf.nn.embedding_lookup(enc_Wemb, enc_inputs_t)\n",
    "    \n",
    "    # enc_emb_inputs:\n",
    "    #     list(enc_sent_len) of tensor[batch_size x embedding_size]\n",
    "    # Because `static_rnn` takes list inputs\n",
    "    enc_emb_inputs = tf.unstack(enc_emb_inputs)\n",
    "    \n",
    "    enc_cell = BasicRNNCell(hidden_size)\n",
    "    \n",
    "    # enc_sent_len x batch_size x embedding_size\n",
    "    enc_outputs, enc_last_state = tf.contrib.rnn.static_rnn(\n",
    "        cell=enc_cell,\n",
    "        inputs=enc_emb_inputs,\n",
    "        sequence_length=sequence_lengths,\n",
    "        dtype=tf.float32)\n",
    "\n",
    "dec_outputs = []\n",
    "dec_predictions = []\n",
    "with tf.variable_scope('decoder') as scope:\n",
    "    dec_cell = BasicRNNCell(hidden_size)\n",
    "    \n",
    "    for i in range(dec_sentence_length+1):\n",
    "        if i == 0:\n",
    "            input_ = tf.nn.embedding_lookup(dec_Wemb, dec_inputs_t[i])\n",
    "            state = enc_last_state\n",
    "        else:\n",
    "            scope.reuse_variables()\n",
    "            input_ = tf.nn.embedding_lookup(dec_Wemb, dec_prediction)\n",
    "        \n",
    "        # dec_output: batch_size x dec_vocab_size+2\n",
    "        # state:      batch_size x hidden_size\n",
    "        dec_output, state = dec_cell(input_, state)\n",
    "        dec_output = tf.nn.xw_plus_b(dec_output, dec_out_W, dec_out_b)\n",
    "        \n",
    "        # dec_prediction: batch_size x 1\n",
    "        dec_prediction = tf.argmax(dec_output, axis=1)\n",
    "        \n",
    "        dec_outputs.append(dec_output)\n",
    "        dec_predictions.append(dec_prediction)\n",
    "\n",
    "# predictions: [batch_size x dec_sentence_lengths+1]\n",
    "predictions = tf.transpose(tf.stack(dec_predictions), [1,0])\n",
    "\n",
    "# labels & logits: [dec_sentence_length+1 x batch_size x dec_vocab_size+2]\n",
    "labels = tf.one_hot(dec_inputs_t, dec_vocab_size+2)\n",
    "logits = tf.stack(dec_outputs)\n",
    "        \n",
    "loss = tf.reduce_mean(tf.nn.softmax_cross_entropy_with_logits(\n",
    "    labels=labels, logits=logits))\n",
    "\n",
    "# training_op = tf.train.AdamOptimizer(learning_rate=0.0001).minimize(loss)\n",
    "training_op = tf.train.RMSPropOptimizer(learning_rate=0.0001).minimize(loss)"
   ]
  },
  {
   "cell_type": "code",
   "execution_count": null,
   "metadata": {
    "collapsed": true
   },
   "outputs": [],
   "source": []
  },
  {
   "cell_type": "markdown",
   "metadata": {},
   "source": [
    "## Run Graph"
   ]
  },
  {
   "cell_type": "code",
   "execution_count": 63,
   "metadata": {
    "collapsed": false,
    "scrolled": false
   },
   "outputs": [
    {
     "name": "stdout",
     "output_type": "stream",
     "text": [
      "Epoch 0\n",
      "\t Hi What is your name?\n",
      "\t =>  Seoul meet in Seoul Seoul in industrial industrial to industrial industrial\n",
      "\tCorrect answer: Hi this is Jaemin.\n",
      "\t Nice to meet you!\n",
      "\t =>  Seoul meet . Seoul Seoul Seoul Seoul Seoul in industrial industrial\n",
      "\tCorrect answer: Nice to meet you too!\n",
      "\t Which programming language do you use?\n",
      "\t =>  Seoul meet in industrial to industrial industrial to Seoul Seoul in\n",
      "\tCorrect answer: I like Python.\n",
      "\t See you later.\n",
      "\t =>  like Jaemin Seoul Seoul in industrial industrial to industrial industrial to\n",
      "\tCorrect answer: Bye Bye.\n",
      "\t Where do you live?\n",
      "\t =>  like , in Seoul Seoul Seoul Seoul Seoul Seoul Seoul Seoul\n",
      "\tCorrect answer: I live in Seoul, South Korea.\n",
      "\t What is your major?\n",
      "\t =>  Seoul meet in Seoul Seoul in industrial Seoul Seoul Seoul Seoul\n",
      "\tCorrect answer: I study industrial engineering.\n",
      "\t What do you want to drink?\n",
      "\t =>  Seoul meet in Seoul Seoul in industrial Seoul Seoul Seoul Seoul\n",
      "\tCorrect answer: Beer please!\n",
      "\t What is your favorite beer?\n",
      "\t =>  Seoul meet in Seoul Seoul in industrial industrial to industrial industrial\n",
      "\tCorrect answer: Leffe brown!\n",
      "\tepoch loss: 15.22\n",
      "\n",
      "Epoch 400\n",
      "\t Hi What is your name?\n",
      "\t =>  _GO Hi like ! . _PAD _PAD _PAD _PAD _PAD _PAD\n",
      "\tCorrect answer: Hi this is Jaemin.\n",
      "\t Nice to meet you!\n",
      "\t =>  _GO I to ! you . _PAD _PAD _PAD _PAD _PAD\n",
      "\tCorrect answer: Nice to meet you too!\n",
      "\t Which programming language do you use?\n",
      "\t =>  _GO I live ! _PAD _PAD _PAD _PAD _PAD _PAD _PAD\n",
      "\tCorrect answer: I like Python.\n",
      "\t See you later.\n",
      "\t =>  _GO Bye Bye . _PAD _PAD _PAD _PAD _PAD _PAD _PAD\n",
      "\tCorrect answer: Bye Bye.\n",
      "\t Where do you live?\n",
      "\t =>  _GO I live ! you . _PAD _PAD _PAD _PAD _PAD\n",
      "\tCorrect answer: I live in Seoul, South Korea.\n",
      "\t What is your major?\n",
      "\t =>  _GO I study ! you . _PAD _PAD _PAD _PAD _PAD\n",
      "\tCorrect answer: I study industrial engineering.\n",
      "\t What do you want to drink?\n",
      "\t =>  _GO Bye Bye . _PAD _PAD _PAD _PAD _PAD _PAD _PAD\n",
      "\tCorrect answer: Beer please!\n",
      "\t What is your favorite beer?\n",
      "\t =>  _GO I Bye . _PAD _PAD _PAD _PAD _PAD _PAD _PAD\n",
      "\tCorrect answer: Leffe brown!\n",
      "\tepoch loss: 4.24\n",
      "\n",
      "Epoch 800\n",
      "\t Hi What is your name?\n",
      "\t =>  _GO Hi this is engineering . _PAD _PAD _PAD _PAD _PAD\n",
      "\tCorrect answer: Hi this is Jaemin.\n",
      "\t Nice to meet you!\n",
      "\t =>  _GO I to meet you too ! _PAD _PAD _PAD _PAD\n",
      "\tCorrect answer: Nice to meet you too!\n",
      "\t Which programming language do you use?\n",
      "\t =>  _GO I like Python . _PAD _PAD _PAD _PAD _PAD _PAD\n",
      "\tCorrect answer: I like Python.\n",
      "\t See you later.\n",
      "\t =>  _GO Bye Bye . _PAD _PAD _PAD _PAD _PAD _PAD _PAD\n",
      "\tCorrect answer: Bye Bye.\n",
      "\t Where do you live?\n",
      "\t =>  _GO I like in Seoul , South Korea . _PAD _PAD\n",
      "\tCorrect answer: I live in Seoul, South Korea.\n",
      "\t What is your major?\n",
      "\t =>  _GO I study industrial engineering . _PAD _PAD _PAD _PAD _PAD\n",
      "\tCorrect answer: I study industrial engineering.\n",
      "\t What do you want to drink?\n",
      "\t =>  _GO Beer please ! _PAD _PAD _PAD _PAD _PAD _PAD _PAD\n",
      "\tCorrect answer: Beer please!\n",
      "\t What is your favorite beer?\n",
      "\t =>  _GO Leffe brown ! _PAD _PAD _PAD _PAD _PAD _PAD _PAD\n",
      "\tCorrect answer: Leffe brown!\n",
      "\tepoch loss: 1.62\n",
      "\n",
      "Epoch 1200\n",
      "\t Hi What is your name?\n",
      "\t =>  _GO Hi this is Jaemin . _PAD _PAD _PAD _PAD _PAD\n",
      "\tCorrect answer: Hi this is Jaemin.\n",
      "\t Nice to meet you!\n",
      "\t =>  _GO Nice to meet you too ! _PAD _PAD _PAD _PAD\n",
      "\tCorrect answer: Nice to meet you too!\n",
      "\t Which programming language do you use?\n",
      "\t =>  _GO I like Python . _PAD _PAD _PAD _PAD _PAD _PAD\n",
      "\tCorrect answer: I like Python.\n",
      "\t See you later.\n",
      "\t =>  _GO Bye Bye . _PAD _PAD _PAD _PAD _PAD _PAD _PAD\n",
      "\tCorrect answer: Bye Bye.\n",
      "\t Where do you live?\n",
      "\t =>  _GO I live in Seoul , South Korea . _PAD _PAD\n",
      "\tCorrect answer: I live in Seoul, South Korea.\n",
      "\t What is your major?\n",
      "\t =>  _GO I study industrial engineering . _PAD _PAD _PAD _PAD _PAD\n",
      "\tCorrect answer: I study industrial engineering.\n",
      "\t What do you want to drink?\n",
      "\t =>  _GO Beer please ! _PAD _PAD _PAD _PAD _PAD _PAD _PAD\n",
      "\tCorrect answer: Beer please!\n",
      "\t What is your favorite beer?\n",
      "\t =>  _GO Leffe brown ! _PAD _PAD _PAD _PAD _PAD _PAD _PAD\n",
      "\tCorrect answer: Leffe brown!\n",
      "\tepoch loss: 0.35\n",
      "\n",
      "Epoch 1600\n",
      "\t Hi What is your name?\n",
      "\t =>  _GO Hi this is Jaemin . _PAD _PAD _PAD _PAD _PAD\n",
      "\tCorrect answer: Hi this is Jaemin.\n",
      "\t Nice to meet you!\n",
      "\t =>  _GO Nice to meet you too ! _PAD _PAD _PAD _PAD\n",
      "\tCorrect answer: Nice to meet you too!\n",
      "\t Which programming language do you use?\n",
      "\t =>  _GO I like Python . _PAD _PAD _PAD _PAD _PAD _PAD\n",
      "\tCorrect answer: I like Python.\n",
      "\t See you later.\n",
      "\t =>  _GO Bye Bye . _PAD _PAD _PAD _PAD _PAD _PAD _PAD\n",
      "\tCorrect answer: Bye Bye.\n",
      "\t Where do you live?\n",
      "\t =>  _GO I live in Seoul , South Korea . _PAD _PAD\n",
      "\tCorrect answer: I live in Seoul, South Korea.\n",
      "\t What is your major?\n",
      "\t =>  _GO I study industrial engineering . _PAD _PAD _PAD _PAD _PAD\n",
      "\tCorrect answer: I study industrial engineering.\n",
      "\t What do you want to drink?\n",
      "\t =>  _GO Beer please ! _PAD _PAD _PAD _PAD _PAD _PAD _PAD\n",
      "\tCorrect answer: Beer please!\n",
      "\t What is your favorite beer?\n",
      "\t =>  _GO Leffe brown ! _PAD _PAD _PAD _PAD _PAD _PAD _PAD\n",
      "\tCorrect answer: Leffe brown!\n",
      "\tepoch loss: 0.05\n",
      "\n"
     ]
    }
   ],
   "source": [
    "with tf.Session() as sess:\n",
    "    sess.run(tf.global_variables_initializer())\n",
    "    loss_history = []\n",
    "    for epoch in range(n_epoch):\n",
    "        \n",
    "        all_preds = []\n",
    "        epoch_loss = 0\n",
    "        for input_batch, target_batch in zip(input_batches, target_batches):\n",
    "            input_token_indices = []\n",
    "            target_token_indices = []\n",
    "            sentence_lengths = []\n",
    "            \n",
    "            for input_sent in input_batch:\n",
    "                input_sent, sent_len = sent2ids(input_sent, vocab=enc_word2id, max_sentence_length=enc_sentence_length)\n",
    "                input_token_indices.append(input_sent)\n",
    "                sentence_lengths.append(sent_len)\n",
    "\n",
    "            for target_sent in target_batch:\n",
    "                target_token_indices.append(\n",
    "                    sent2ids(target_sent, vocab=dec_word2id, max_sentence_length=dec_sentence_length, is_target=True))\n",
    "            \n",
    "            # Evaluate three operations in the graph\n",
    "            # => predictions, loss, training_op(optimzier)\n",
    "            batch_preds, batch_loss, _ = sess.run(\n",
    "                [predictions, loss, training_op],\n",
    "                feed_dict={\n",
    "                    enc_inputs: input_token_indices,\n",
    "                    sequence_lengths: sentence_lengths,\n",
    "                    dec_inputs: target_token_indices\n",
    "                })\n",
    "            loss_history.append(batch_loss)\n",
    "            epoch_loss += batch_loss\n",
    "            all_preds.append(batch_preds)\n",
    "            \n",
    "        # Logging every 400 epochs\n",
    "        if epoch % 400 == 0:\n",
    "            print('Epoch', epoch)\n",
    "            for input_batch, target_batch, batch_preds in zip(input_batches, target_batches, all_preds):\n",
    "                for input_sent, target_sent, pred in zip(input_batch, target_batch, batch_preds):\n",
    "                    print('\\t', input_sent)\n",
    "                    print('\\t => ', ids2sent(pred, reverse_vocab=dec_id2word))\n",
    "                    print('\\tCorrect answer:', target_sent)\n",
    "            print('\\tepoch loss: {:.2f}\\n'.format(epoch_loss))"
   ]
  },
  {
   "cell_type": "markdown",
   "metadata": {},
   "source": [
    "## Learning Curve"
   ]
  },
  {
   "cell_type": "code",
   "execution_count": 65,
   "metadata": {
    "collapsed": false
   },
   "outputs": [
    {
     "data": {
      "image/png": "[encoded data removed]",
      "text/plain": [
       "<matplotlib.figure.Figure at 0x11f4efc18>"
      ]
     },
     "metadata": {},
     "output_type": "display_data"
    }
   ],
   "source": [
    "plt.figure(figsize=(20, 10))\n",
    "plt.scatter(range(n_epoch * batch_size), loss_history)\n",
    "plt.title('Learning Curve')\n",
    "plt.xlabel('Global step')\n",
    "plt.ylabel('Loss')\n",
    "plt.show()"
   ]
  },
  {
   "cell_type": "code",
   "execution_count": null,
   "metadata": {
    "collapsed": true
   },
   "outputs": [],
   "source": []
  }
 ],
 "metadata": {
  "kernelspec": {
   "display_name": "Python 3",
   "language": "python",
   "name": "python3"
  },
  "language_info": {
   "codemirror_mode": {
    "name": "ipython",
    "version": 3
   },
   "file_extension": ".py",
   "mimetype": "text/x-python",
   "name": "python",
   "nbconvert_exporter": "python",
   "pygments_lexer": "ipython3",
   "version": "3.6.0"
  }
 },
 "nbformat": 4,
 "nbformat_minor": 2
}
